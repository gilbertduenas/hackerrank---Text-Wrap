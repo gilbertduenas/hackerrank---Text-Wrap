{
  "nbformat": 4,
  "nbformat_minor": 0,
  "metadata": {
    "colab": {
      "name": "hackerrank - Text-Wrap",
      "provenance": [],
      "authorship_tag": "ABX9TyNtb4ztgnmbsin/DkHV8Xbj",
      "include_colab_link": true
    },
    "kernelspec": {
      "name": "python3",
      "display_name": "Python 3"
    }
  },
  "cells": [
    {
      "cell_type": "markdown",
      "metadata": {
        "id": "view-in-github",
        "colab_type": "text"
      },
      "source": [
        "<a href=\"https://colab.research.google.com/github/gilbertduenas/hackerrank---Text-Wrap/blob/master/hackerrank_Text_Wrap.ipynb\" target=\"_parent\"><img src=\"https://colab.research.google.com/assets/colab-badge.svg\" alt=\"Open In Colab\"/></a>"
      ]
    },
    {
      "cell_type": "code",
      "metadata": {
        "id": "TUh3TIT3ANcI",
        "colab_type": "code",
        "colab": {}
      },
      "source": [
        "s = 'ABCDEFGHIJKLIMNOQRSTUVWXYZ'\n",
        "m = 4"
      ],
      "execution_count": 11,
      "outputs": []
    },
    {
      "cell_type": "code",
      "metadata": {
        "id": "I8fYS87f-uT6",
        "colab_type": "code",
        "colab": {}
      },
      "source": [
        "def wrap(s, m):\n",
        "  all = []\n",
        "  chunk =[]\n",
        "  count = 0\n",
        "  length = m\n",
        "  nl = '\\n'\n",
        "  \n",
        "  for i in range(len(s)):\n",
        "    chunk.append(s[i])\n",
        "\n",
        "    if count==length-1:\n",
        "      all.append(''.join(chunk))\n",
        "      chunk = []\n",
        "      count = -1\n",
        "    elif i==len(s)-1:\n",
        "      all.append(''.join(chunk))\n",
        "\n",
        "    count+=1\n",
        "\n",
        "  return f'{nl.join(all)}'\n"
      ],
      "execution_count": 85,
      "outputs": []
    },
    {
      "cell_type": "code",
      "metadata": {
        "id": "kU2NE_-9CC_m",
        "colab_type": "code",
        "colab": {
          "base_uri": "https://localhost:8080/",
          "height": 141
        },
        "outputId": "1bd3ea4f-697d-4c32-ef64-1703dae30273"
      },
      "source": [
        "print(wrap(s, m))"
      ],
      "execution_count": 87,
      "outputs": [
        {
          "output_type": "stream",
          "text": [
            "ABCD\n",
            "EFGH\n",
            "IJKL\n",
            "IMNO\n",
            "QRST\n",
            "UVWX\n",
            "YZ\n"
          ],
          "name": "stdout"
        }
      ]
    },
    {
      "cell_type": "code",
      "metadata": {
        "id": "ux-DjzxiWMBa",
        "colab_type": "code",
        "colab": {}
      },
      "source": [
        ""
      ],
      "execution_count": null,
      "outputs": []
    }
  ]
}